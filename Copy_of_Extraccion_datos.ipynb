{
  "nbformat": 4,
  "nbformat_minor": 0,
  "metadata": {
    "colab": {
      "provenance": [],
      "include_colab_link": true
    },
    "kernelspec": {
      "name": "python3",
      "display_name": "Python 3"
    },
    "language_info": {
      "name": "python"
    }
  },
  "cells": [
    {
      "cell_type": "markdown",
      "metadata": {
        "id": "view-in-github",
        "colab_type": "text"
      },
      "source": [
        "<a href=\"https://colab.research.google.com/github/MauBarcena/Extraccion-de-datos1/blob/main/Copy_of_Extraccion_datos.ipynb\" target=\"_parent\"><img src=\"https://colab.research.google.com/assets/colab-badge.svg\" alt=\"Open In Colab\"/></a>"
      ]
    },
    {
      "cell_type": "code",
      "source": [
        "pip install pandas"
      ],
      "metadata": {
        "id": "AvqYm5nkapUl"
      },
      "execution_count": null,
      "outputs": []
    },
    {
      "cell_type": "code",
      "execution_count": null,
      "metadata": {
        "id": "LuRRguYVNtkQ"
      },
      "outputs": [],
      "source": [
        "import pandas as pd\n",
        "import numpy as np\n",
        "import matplotlib.pyplot as plt\n",
        "import seaborn as sns\n",
        "import io"
      ]
    },
    {
      "cell_type": "code",
      "source": [
        "from google.colab import files \n",
        "files.upload()"
      ],
      "metadata": {
        "id": "YCvKAie5QBM9"
      },
      "execution_count": null,
      "outputs": []
    },
    {
      "cell_type": "markdown",
      "source": [
        "#cargar archivos csv desde el equipo\n",
        "df= pd.read_csv('Country_table.csv')\n",
        "df"
      ],
      "metadata": {
        "id": "KHUGJmgXRXKF"
      }
    },
    {
      "cell_type": "code",
      "source": [
        "filtro1=df[df[\"Sexo\"]==\"Mujeres\"] #filtro por tipo \n",
        "filtro1"
      ],
      "metadata": {
        "id": "-TYckUY-UEGU"
      },
      "execution_count": null,
      "outputs": []
    },
    {
      "cell_type": "code",
      "source": [
        "filtro2=df[df['Entidad_Federativa']==\"Puebla\"] #filtro por filas\n",
        "filtro2"
      ],
      "metadata": {
        "id": "7CH4nmDZUvIU"
      },
      "execution_count": null,
      "outputs": []
    },
    {
      "cell_type": "code",
      "source": [
        "filtro3=df.iloc[[1000, 2000, 3000] , : ] #filtro por columnas\n",
        "filtro3b=df.iloc[500:550 , : ]\n",
        "filtro3b"
      ],
      "metadata": {
        "id": "BEIuNdrIWpkP"
      },
      "execution_count": null,
      "outputs": []
    },
    {
      "cell_type": "code",
      "source": [
        "filtro4=df.iloc[:,4:7]\n",
        "filtro4"
      ],
      "metadata": {
        "id": "nQylCRQkXSDf"
      },
      "execution_count": null,
      "outputs": []
    },
    {
      "cell_type": "code",
      "source": [
        "filtro_mix=df.iloc[0:99,2]#filas vs columnas\n",
        "filtro_mix"
      ],
      "metadata": {
        "id": "xYodc0xLYH2b"
      },
      "execution_count": null,
      "outputs": []
    },
    {
      "cell_type": "code",
      "source": [
        "from google.colab import files #filtro por cabecera\n",
        "uploaded=files.upload()\n",
        "df=pd.read_csv(io.BytesIO(uploaded[\"file.csv\"]), index_col=2)\n",
        "df"
      ],
      "metadata": {
        "id": "XTBbZMjrZACH"
      },
      "execution_count": null,
      "outputs": []
    },
    {
      "cell_type": "code",
      "source": [
        "filtro5=df.loc[[\"Puebla\",\"Durango\"],[\"Poblacion_ocupada_en_la_industria_manufacturera\"]] \n",
        "filtro5"
      ],
      "metadata": {
        "id": "xf5GMRSvcedd"
      },
      "execution_count": null,
      "outputs": []
    },
    {
      "cell_type": "code",
      "source": [
        "filtro6=df.head() #filtro por cabecera\n",
        "filtro6"
      ],
      "metadata": {
        "id": "GZ7Fy_zDdPRw"
      },
      "execution_count": null,
      "outputs": []
    },
    {
      "cell_type": "code",
      "source": [
        "filtro7=df[df[\"Periodo\"]>2010 #filtro por comparacion \n",
        "filtro7"
      ],
      "metadata": {
        "id": "pC7eXd7bewVw"
      },
      "execution_count": null,
      "outputs": []
    },
    {
      "cell_type": "code",
      "source": [
        "filtro8=df[(df[\"Periodo\"]>2010)&(df[\"Sexo\"]==\"Hombres\")]\n",
        "filtro8"
      ],
      "metadata": {
        "id": "CkXX3uDphjfG"
      },
      "execution_count": null,
      "outputs": []
    },
    {
      "cell_type": "code",
      "source": [
        "filtro9=df[(df[\"Periodo\"]>2010)|(df[\"Sexo\"]==\"Hombres\")]\n",
        "filtro9"
      ],
      "metadata": {
        "id": "VUrySCAZaHaP"
      },
      "execution_count": null,
      "outputs": []
    },
    {
      "cell_type": "code",
      "source": [
        "filtro10=df[~(df[\"Periodo\"]>=2010)&~(df[\"Sexo\"]==\"Mujeres\")]\n",
        "filtro10"
      ],
      "metadata": {
        "id": "wLrTqOCXbm_g"
      },
      "execution_count": null,
      "outputs": []
    },
    {
      "cell_type": "code",
      "source": [
        "filtro10.to_csv(\"Entregable1.csv\")"
      ],
      "metadata": {
        "id": "1KgDmHa4cnQY"
      },
      "execution_count": null,
      "outputs": []
    },
    {
      "cell_type": "code",
      "source": [
        "from google.colab import files \n",
        "files.download(\"Entregable1.csv\")"
      ],
      "metadata": {
        "colab": {
          "base_uri": "https://localhost:8080/",
          "height": 17
        },
        "id": "m6jFfGYBdGTl",
        "outputId": "93a9e719-2a75-4cfd-884b-1cb6382bf4d6"
      },
      "execution_count": null,
      "outputs": [
        {
          "output_type": "display_data",
          "data": {
            "text/plain": [
              "<IPython.core.display.Javascript object>"
            ],
            "application/javascript": [
              "\n",
              "    async function download(id, filename, size) {\n",
              "      if (!google.colab.kernel.accessAllowed) {\n",
              "        return;\n",
              "      }\n",
              "      const div = document.createElement('div');\n",
              "      const label = document.createElement('label');\n",
              "      label.textContent = `Downloading \"${filename}\": `;\n",
              "      div.appendChild(label);\n",
              "      const progress = document.createElement('progress');\n",
              "      progress.max = size;\n",
              "      div.appendChild(progress);\n",
              "      document.body.appendChild(div);\n",
              "\n",
              "      const buffers = [];\n",
              "      let downloaded = 0;\n",
              "\n",
              "      const channel = await google.colab.kernel.comms.open(id);\n",
              "      // Send a message to notify the kernel that we're ready.\n",
              "      channel.send({})\n",
              "\n",
              "      for await (const message of channel.messages) {\n",
              "        // Send a message to notify the kernel that we're ready.\n",
              "        channel.send({})\n",
              "        if (message.buffers) {\n",
              "          for (const buffer of message.buffers) {\n",
              "            buffers.push(buffer);\n",
              "            downloaded += buffer.byteLength;\n",
              "            progress.value = downloaded;\n",
              "          }\n",
              "        }\n",
              "      }\n",
              "      const blob = new Blob(buffers, {type: 'application/binary'});\n",
              "      const a = document.createElement('a');\n",
              "      a.href = window.URL.createObjectURL(blob);\n",
              "      a.download = filename;\n",
              "      div.appendChild(a);\n",
              "      a.click();\n",
              "      div.remove();\n",
              "    }\n",
              "  "
            ]
          },
          "metadata": {}
        },
        {
          "output_type": "display_data",
          "data": {
            "text/plain": [
              "<IPython.core.display.Javascript object>"
            ],
            "application/javascript": [
              "download(\"download_8fd2e4fb-1a04-4020-98da-40b3bac6a649\", \"Entregable1.csv\", 238664)"
            ]
          },
          "metadata": {}
        }
      ]
    }
  ]
}